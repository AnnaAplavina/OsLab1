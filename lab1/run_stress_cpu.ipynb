{
 "cells": [
  {
   "cell_type": "code",
   "execution_count": 6,
   "metadata": {},
   "outputs": [],
   "source": [
    "import subprocess\n",
    "import time\n",
    "import psutil\n",
    "import os"
   ]
  },
  {
   "cell_type": "code",
   "execution_count": 7,
   "metadata": {},
   "outputs": [],
   "source": [
    "def run_stress_ng(method, worker_num):\n",
    "    command = f\"stress-ng --cpu-method {method} --cpu {worker_num} --timeout 40s --metrics\"\n",
    "    print(command)\n",
    "    process = subprocess.Popen(command, shell=True, stdout=subprocess.PIPE, stderr=subprocess.PIPE, preexec_fn=os.setsid)\n",
    "    return process"
   ]
  },
  {
   "cell_type": "code",
   "execution_count": 8,
   "metadata": {},
   "outputs": [],
   "source": [
    "def get_worker_pids(parent_pid):\n",
    "    parent_process = psutil.Process(parent_pid)\n",
    "    child_processes = parent_process.children(recursive=True)\n",
    "    running_child_processes = [child for child in child_processes if child.status() != psutil.STATUS_SLEEPING]\n",
    "    print(running_child_processes)\n",
    "\n",
    "    worker_pids = [child.pid for child in running_child_processes]\n",
    "    return worker_pids"
   ]
  },
  {
   "cell_type": "code",
   "execution_count": 9,
   "metadata": {},
   "outputs": [],
   "source": [
    "def run_top_with_pids(pids, output_file):\n",
    "    pid_list = \",\".join(str(pid) for pid in pids)\n",
    "    command = f\"top -b -p {pid_list} -n 20 -d 1\"\n",
    "    print(command)\n",
    "    \n",
    "    result = subprocess.run(command, shell=True, stdout=subprocess.PIPE, stderr=subprocess.PIPE)\n",
    "    with open(output_file, 'w') as file:\n",
    "        file.write(result.stdout.decode())"
   ]
  },
  {
   "cell_type": "code",
   "execution_count": 10,
   "metadata": {},
   "outputs": [
    {
     "name": "stdout",
     "output_type": "stream",
     "text": [
      "1\n",
      "stress-ng --cpu-method float80 --cpu 1 --timeout 40s --metrics\n",
      "[psutil.Process(pid=3388, name='stress-ng', status='running', started='13:50:52')]\n",
      "top -b -p 3388 -n 20 -d 1\n",
      "2\n",
      "stress-ng --cpu-method float80 --cpu 2 --timeout 40s --metrics\n",
      "[psutil.Process(pid=3433, name='stress-ng', status='running', started='13:51:36'), psutil.Process(pid=3434, name='stress-ng', status='running', started='13:51:36')]\n",
      "top -b -p 3433,3434 -n 20 -d 1\n",
      "3\n",
      "stress-ng --cpu-method float80 --cpu 3 --timeout 40s --metrics\n",
      "[psutil.Process(pid=3452, name='stress-ng', status='running', started='13:52:20'), psutil.Process(pid=3453, name='stress-ng', status='running', started='13:52:20'), psutil.Process(pid=3454, name='stress-ng', status='running', started='13:52:20')]\n",
      "top -b -p 3452,3453,3454 -n 20 -d 1\n",
      "4\n",
      "stress-ng --cpu-method float80 --cpu 4 --timeout 40s --metrics\n",
      "[psutil.Process(pid=3462, name='stress-ng', status='running', started='13:53:04'), psutil.Process(pid=3463, name='stress-ng', status='running', started='13:53:04'), psutil.Process(pid=3464, name='stress-ng', status='running', started='13:53:04'), psutil.Process(pid=3465, name='stress-ng', status='running', started='13:53:04')]\n",
      "top -b -p 3462,3463,3464,3465 -n 20 -d 1\n",
      "5\n",
      "stress-ng --cpu-method float80 --cpu 5 --timeout 40s --metrics\n",
      "[psutil.Process(pid=3472, name='stress-ng', status='running', started='13:53:49'), psutil.Process(pid=3473, name='stress-ng', status='running', started='13:53:49'), psutil.Process(pid=3474, name='stress-ng', status='running', started='13:53:49'), psutil.Process(pid=3475, name='stress-ng', status='running', started='13:53:49'), psutil.Process(pid=3476, name='stress-ng', status='running', started='13:53:49')]\n",
      "top -b -p 3472,3473,3474,3475,3476 -n 20 -d 1\n",
      "6\n",
      "stress-ng --cpu-method float80 --cpu 6 --timeout 40s --metrics\n",
      "[psutil.Process(pid=3481, name='stress-ng', status='running', started='13:54:33'), psutil.Process(pid=3482, name='stress-ng', status='running', started='13:54:33'), psutil.Process(pid=3483, name='stress-ng', status='running', started='13:54:33'), psutil.Process(pid=3484, name='stress-ng', status='running', started='13:54:33'), psutil.Process(pid=3485, name='stress-ng', status='running', started='13:54:33'), psutil.Process(pid=3486, name='stress-ng', status='running', started='13:54:33')]\n",
      "top -b -p 3481,3482,3483,3484,3485,3486 -n 20 -d 1\n",
      "7\n",
      "stress-ng --cpu-method float80 --cpu 7 --timeout 40s --metrics\n",
      "[psutil.Process(pid=3493, name='stress-ng', status='running', started='13:55:17'), psutil.Process(pid=3494, name='stress-ng', status='running', started='13:55:17'), psutil.Process(pid=3495, name='stress-ng', status='running', started='13:55:17'), psutil.Process(pid=3496, name='stress-ng', status='running', started='13:55:17'), psutil.Process(pid=3497, name='stress-ng', status='running', started='13:55:17'), psutil.Process(pid=3498, name='stress-ng', status='running', started='13:55:17'), psutil.Process(pid=3499, name='stress-ng', status='running', started='13:55:17')]\n",
      "top -b -p 3493,3494,3495,3496,3497,3498,3499 -n 20 -d 1\n",
      "8\n",
      "stress-ng --cpu-method float80 --cpu 8 --timeout 40s --metrics\n",
      "[psutil.Process(pid=3532, name='stress-ng', status='running', started='13:56:01'), psutil.Process(pid=3533, name='stress-ng', status='running', started='13:56:01'), psutil.Process(pid=3534, name='stress-ng', status='running', started='13:56:01'), psutil.Process(pid=3535, name='stress-ng', status='running', started='13:56:01'), psutil.Process(pid=3536, name='stress-ng', status='running', started='13:56:01'), psutil.Process(pid=3537, name='stress-ng', status='running', started='13:56:01'), psutil.Process(pid=3538, name='stress-ng', status='running', started='13:56:01'), psutil.Process(pid=3539, name='stress-ng', status='running', started='13:56:01')]\n",
      "top -b -p 3532,3533,3534,3535,3536,3537,3538,3539 -n 20 -d 1\n",
      "9\n",
      "stress-ng --cpu-method float80 --cpu 9 --timeout 40s --metrics\n",
      "[psutil.Process(pid=3549, name='stress-ng', status='running', started='13:56:45'), psutil.Process(pid=3550, name='stress-ng', status='running', started='13:56:45'), psutil.Process(pid=3551, name='stress-ng', status='running', started='13:56:45'), psutil.Process(pid=3552, name='stress-ng', status='running', started='13:56:45'), psutil.Process(pid=3553, name='stress-ng', status='running', started='13:56:45'), psutil.Process(pid=3554, name='stress-ng', status='running', started='13:56:45'), psutil.Process(pid=3555, name='stress-ng', status='running', started='13:56:45'), psutil.Process(pid=3556, name='stress-ng', status='running', started='13:56:45'), psutil.Process(pid=3557, name='stress-ng', status='running', started='13:56:45')]\n",
      "top -b -p 3549,3550,3551,3552,3553,3554,3555,3556,3557 -n 20 -d 1\n",
      "10\n",
      "stress-ng --cpu-method float80 --cpu 10 --timeout 40s --metrics\n",
      "[psutil.Process(pid=3566, name='stress-ng', status='running', started='13:57:30'), psutil.Process(pid=3567, name='stress-ng', status='running', started='13:57:30'), psutil.Process(pid=3568, name='stress-ng', status='running', started='13:57:30'), psutil.Process(pid=3569, name='stress-ng', status='running', started='13:57:30'), psutil.Process(pid=3570, name='stress-ng', status='running', started='13:57:30'), psutil.Process(pid=3571, name='stress-ng', status='running', started='13:57:30'), psutil.Process(pid=3572, name='stress-ng', status='running', started='13:57:30'), psutil.Process(pid=3573, name='stress-ng', status='running', started='13:57:30'), psutil.Process(pid=3574, name='stress-ng', status='running', started='13:57:30'), psutil.Process(pid=3575, name='stress-ng', status='running', started='13:57:30')]\n",
      "top -b -p 3566,3567,3568,3569,3570,3571,3572,3573,3574,3575 -n 20 -d 1\n",
      "11\n",
      "stress-ng --cpu-method float80 --cpu 11 --timeout 40s --metrics\n",
      "[psutil.Process(pid=3584, name='stress-ng', status='running', started='13:58:14'), psutil.Process(pid=3585, name='stress-ng', status='running', started='13:58:14'), psutil.Process(pid=3586, name='stress-ng', status='running', started='13:58:14'), psutil.Process(pid=3587, name='stress-ng', status='running', started='13:58:14'), psutil.Process(pid=3588, name='stress-ng', status='running', started='13:58:14'), psutil.Process(pid=3589, name='stress-ng', status='running', started='13:58:14'), psutil.Process(pid=3590, name='stress-ng', status='running', started='13:58:14'), psutil.Process(pid=3591, name='stress-ng', status='running', started='13:58:14'), psutil.Process(pid=3592, name='stress-ng', status='running', started='13:58:14'), psutil.Process(pid=3593, name='stress-ng', status='running', started='13:58:14'), psutil.Process(pid=3594, name='stress-ng', status='running', started='13:58:14')]\n",
      "top -b -p 3584,3585,3586,3587,3588,3589,3590,3591,3592,3593,3594 -n 20 -d 1\n",
      "12\n",
      "stress-ng --cpu-method float80 --cpu 12 --timeout 40s --metrics\n",
      "[psutil.Process(pid=3601, name='stress-ng', status='running', started='13:58:58'), psutil.Process(pid=3602, name='stress-ng', status='running', started='13:58:58'), psutil.Process(pid=3603, name='stress-ng', status='running', started='13:58:58'), psutil.Process(pid=3604, name='stress-ng', status='running', started='13:58:58'), psutil.Process(pid=3605, name='stress-ng', status='running', started='13:58:58'), psutil.Process(pid=3606, name='stress-ng', status='running', started='13:58:58'), psutil.Process(pid=3607, name='stress-ng', status='running', started='13:58:58'), psutil.Process(pid=3608, name='stress-ng', status='running', started='13:58:58'), psutil.Process(pid=3609, name='stress-ng', status='running', started='13:58:58'), psutil.Process(pid=3610, name='stress-ng', status='running', started='13:58:58'), psutil.Process(pid=3611, name='stress-ng', status='running', started='13:58:58'), psutil.Process(pid=3612, name='stress-ng', status='running', started='13:58:58')]\n",
      "top -b -p 3601,3602,3603,3604,3605,3606,3607,3608,3609,3610,3611,3612 -n 20 -d 1\n",
      "13\n",
      "stress-ng --cpu-method float80 --cpu 13 --timeout 40s --metrics\n",
      "[psutil.Process(pid=3617, name='stress-ng', status='running', started='13:59:42'), psutil.Process(pid=3618, name='stress-ng', status='running', started='13:59:42'), psutil.Process(pid=3619, name='stress-ng', status='running', started='13:59:42'), psutil.Process(pid=3620, name='stress-ng', status='running', started='13:59:42'), psutil.Process(pid=3621, name='stress-ng', status='running', started='13:59:42'), psutil.Process(pid=3622, name='stress-ng', status='running', started='13:59:42'), psutil.Process(pid=3623, name='stress-ng', status='running', started='13:59:42'), psutil.Process(pid=3624, name='stress-ng', status='running', started='13:59:42'), psutil.Process(pid=3625, name='stress-ng', status='running', started='13:59:42'), psutil.Process(pid=3626, name='stress-ng', status='running', started='13:59:42'), psutil.Process(pid=3627, name='stress-ng', status='running', started='13:59:42'), psutil.Process(pid=3628, name='stress-ng', status='running', started='13:59:42'), psutil.Process(pid=3629, name='stress-ng', status='running', started='13:59:42')]\n",
      "top -b -p 3617,3618,3619,3620,3621,3622,3623,3624,3625,3626,3627,3628,3629 -n 20 -d 1\n",
      "14\n",
      "stress-ng --cpu-method float80 --cpu 14 --timeout 40s --metrics\n",
      "[psutil.Process(pid=3635, name='stress-ng', status='running', started='14:00:27'), psutil.Process(pid=3636, name='stress-ng', status='running', started='14:00:27'), psutil.Process(pid=3637, name='stress-ng', status='running', started='14:00:27'), psutil.Process(pid=3638, name='stress-ng', status='running', started='14:00:27'), psutil.Process(pid=3639, name='stress-ng', status='running', started='14:00:27'), psutil.Process(pid=3640, name='stress-ng', status='running', started='14:00:27'), psutil.Process(pid=3641, name='stress-ng', status='running', started='14:00:27'), psutil.Process(pid=3642, name='stress-ng', status='running', started='14:00:27'), psutil.Process(pid=3643, name='stress-ng', status='running', started='14:00:27'), psutil.Process(pid=3644, name='stress-ng', status='running', started='14:00:27'), psutil.Process(pid=3645, name='stress-ng', status='running', started='14:00:27'), psutil.Process(pid=3646, name='stress-ng', status='running', started='14:00:27'), psutil.Process(pid=3647, name='stress-ng', status='running', started='14:00:27'), psutil.Process(pid=3648, name='stress-ng', status='running', started='14:00:27')]\n",
      "top -b -p 3635,3636,3637,3638,3639,3640,3641,3642,3643,3644,3645,3646,3647,3648 -n 20 -d 1\n",
      "15\n",
      "stress-ng --cpu-method float80 --cpu 15 --timeout 40s --metrics\n",
      "[psutil.Process(pid=3660, name='stress-ng', status='running', started='14:01:11'), psutil.Process(pid=3661, name='stress-ng', status='running', started='14:01:11'), psutil.Process(pid=3662, name='stress-ng', status='running', started='14:01:11'), psutil.Process(pid=3663, name='stress-ng', status='running', started='14:01:11'), psutil.Process(pid=3664, name='stress-ng', status='running', started='14:01:11'), psutil.Process(pid=3665, name='stress-ng', status='running', started='14:01:11'), psutil.Process(pid=3666, name='stress-ng', status='running', started='14:01:11'), psutil.Process(pid=3667, name='stress-ng', status='running', started='14:01:11'), psutil.Process(pid=3668, name='stress-ng', status='running', started='14:01:11'), psutil.Process(pid=3669, name='stress-ng', status='running', started='14:01:11'), psutil.Process(pid=3670, name='stress-ng', status='running', started='14:01:11'), psutil.Process(pid=3671, name='stress-ng', status='running', started='14:01:11'), psutil.Process(pid=3672, name='stress-ng', status='running', started='14:01:11'), psutil.Process(pid=3673, name='stress-ng', status='running', started='14:01:11'), psutil.Process(pid=3674, name='stress-ng', status='running', started='14:01:11')]\n",
      "top -b -p 3660,3661,3662,3663,3664,3665,3666,3667,3668,3669,3670,3671,3672,3673,3674 -n 20 -d 1\n",
      "16\n",
      "stress-ng --cpu-method float80 --cpu 16 --timeout 40s --metrics\n",
      "[psutil.Process(pid=3682, name='stress-ng', status='running', started='14:01:55'), psutil.Process(pid=3683, name='stress-ng', status='running', started='14:01:55'), psutil.Process(pid=3684, name='stress-ng', status='running', started='14:01:55'), psutil.Process(pid=3685, name='stress-ng', status='running', started='14:01:55'), psutil.Process(pid=3686, name='stress-ng', status='running', started='14:01:55'), psutil.Process(pid=3687, name='stress-ng', status='running', started='14:01:55'), psutil.Process(pid=3688, name='stress-ng', status='running', started='14:01:55'), psutil.Process(pid=3689, name='stress-ng', status='running', started='14:01:55'), psutil.Process(pid=3690, name='stress-ng', status='running', started='14:01:55'), psutil.Process(pid=3691, name='stress-ng', status='running', started='14:01:55'), psutil.Process(pid=3692, name='stress-ng', status='running', started='14:01:55'), psutil.Process(pid=3693, name='stress-ng', status='running', started='14:01:55'), psutil.Process(pid=3694, name='stress-ng', status='running', started='14:01:55'), psutil.Process(pid=3695, name='stress-ng', status='running', started='14:01:55'), psutil.Process(pid=3696, name='stress-ng', status='running', started='14:01:55'), psutil.Process(pid=3697, name='stress-ng', status='running', started='14:01:55')]\n",
      "top -b -p 3682,3683,3684,3685,3686,3687,3688,3689,3690,3691,3692,3693,3694,3695,3696,3697 -n 20 -d 1\n"
     ]
    }
   ],
   "source": [
    "method = \"float80\"\n",
    "max_worker_num = 16\n",
    "for i in range(max_worker_num):\n",
    "    print(i + 1)\n",
    "    stress_process = run_stress_ng(method, i+1)\n",
    "\n",
    "    time.sleep(5)\n",
    "\n",
    "    worker_pids = get_worker_pids(stress_process.pid)\n",
    "    run_top_with_pids(worker_pids, f\"{method}-out{i+1}.txt\")\n",
    "    \n",
    "    time.sleep(20)"
   ]
  }
 ],
 "metadata": {
  "kernelspec": {
   "display_name": "Python 3",
   "language": "python",
   "name": "python3"
  },
  "language_info": {
   "codemirror_mode": {
    "name": "ipython",
    "version": 3
   },
   "file_extension": ".py",
   "mimetype": "text/x-python",
   "name": "python",
   "nbconvert_exporter": "python",
   "pygments_lexer": "ipython3",
   "version": "3.10.12"
  }
 },
 "nbformat": 4,
 "nbformat_minor": 2
}
